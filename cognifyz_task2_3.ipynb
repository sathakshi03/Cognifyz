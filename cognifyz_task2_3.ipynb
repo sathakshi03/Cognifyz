{
  "nbformat": 4,
  "nbformat_minor": 0,
  "metadata": {
    "colab": {
      "provenance": [],
      "authorship_tag": "ABX9TyNwq2T8b/GDMzdz4g+bBhQF",
      "include_colab_link": true
    },
    "kernelspec": {
      "name": "python3",
      "display_name": "Python 3"
    },
    "language_info": {
      "name": "python"
    }
  },
  "cells": [
    {
      "cell_type": "markdown",
      "metadata": {
        "id": "view-in-github",
        "colab_type": "text"
      },
      "source": [
        "<a href=\"https://colab.research.google.com/github/sathakshi03/Cognifyz/blob/main/cognifyz_task2_3.ipynb\" target=\"_parent\"><img src=\"https://colab.research.google.com/assets/colab-badge.svg\" alt=\"Open In Colab\"/></a>"
      ]
    },
    {
      "cell_type": "code",
      "source": [
        "import pandas as pd\n",
        "\n",
        "df = pd.read_csv('Dataset.csv')\n",
        "\n",
        "# Extracting additional features from the existing columns, such as the length of the restaurant name or address.\n",
        "df['NameLength'] = df['Restaurant Name'].apply(len)\n",
        "\n",
        "# Create new features like \"Has Table Booking\" or \"Has Online Delivery\" by encoding categorical variables.\n",
        "df['Has Table booking'] = df['Has Table booking'].map({True: 1, False: 0})\n",
        "df['Has Online delivery'] = df['Has Online delivery'].map({True: 1, False: 0})\n",
        "\n",
        "print(df)"
      ],
      "metadata": {
        "colab": {
          "base_uri": "https://localhost:8080/"
        },
        "id": "CRbIF8tLCnbj",
        "outputId": "6a0561e0-72a5-4342-f241-2bd4a6b111bf"
      },
      "execution_count": 1,
      "outputs": [
        {
          "output_type": "stream",
          "name": "stdout",
          "text": [
            "      Restaurant ID           Restaurant Name  Country Code              City  \\\n",
            "0           6317637          Le Petit Souffle           162       Makati City   \n",
            "1           6304287          Izakaya Kikufuji           162       Makati City   \n",
            "2           6300002    Heat - Edsa Shangri-La           162  Mandaluyong City   \n",
            "3           6318506                      Ooma           162  Mandaluyong City   \n",
            "4           6314302               Sambo Kojin           162  Mandaluyong City   \n",
            "...             ...                       ...           ...               ...   \n",
            "9546        5915730               Naml۱ Gurme           208         ��stanbul   \n",
            "9547        5908749              Ceviz A��ac۱           208         ��stanbul   \n",
            "9548        5915807                     Huqqa           208         ��stanbul   \n",
            "9549        5916112               A���k Kahve           208         ��stanbul   \n",
            "9550        5927402  Walter's Coffee Roastery           208         ��stanbul   \n",
            "\n",
            "                                                Address  \\\n",
            "0     Third Floor, Century City Mall, Kalayaan Avenu...   \n",
            "1     Little Tokyo, 2277 Chino Roces Avenue, Legaspi...   \n",
            "2     Edsa Shangri-La, 1 Garden Way, Ortigas, Mandal...   \n",
            "3     Third Floor, Mega Fashion Hall, SM Megamall, O...   \n",
            "4     Third Floor, Mega Atrium, SM Megamall, Ortigas...   \n",
            "...                                                 ...   \n",
            "9546  Kemanke�� Karamustafa Pa��a Mahallesi, R۱ht۱m ...   \n",
            "9547  Ko��uyolu Mahallesi, Muhittin ��st�_nda�� Cadd...   \n",
            "9548  Kuru�_e��me Mahallesi, Muallim Naci Caddesi, N...   \n",
            "9549  Kuru�_e��me Mahallesi, Muallim Naci Caddesi, N...   \n",
            "9550  Cafea��a Mahallesi, Bademalt۱ Sokak, No 21/B, ...   \n",
            "\n",
            "                                        Locality  \\\n",
            "0      Century City Mall, Poblacion, Makati City   \n",
            "1     Little Tokyo, Legaspi Village, Makati City   \n",
            "2     Edsa Shangri-La, Ortigas, Mandaluyong City   \n",
            "3         SM Megamall, Ortigas, Mandaluyong City   \n",
            "4         SM Megamall, Ortigas, Mandaluyong City   \n",
            "...                                          ...   \n",
            "9546                                    Karak�_y   \n",
            "9547                                   Ko��uyolu   \n",
            "9548                                 Kuru�_e��me   \n",
            "9549                                 Kuru�_e��me   \n",
            "9550                                        Moda   \n",
            "\n",
            "                                       Locality Verbose   Longitude  \\\n",
            "0     Century City Mall, Poblacion, Makati City, Mak...  121.027535   \n",
            "1     Little Tokyo, Legaspi Village, Makati City, Ma...  121.014101   \n",
            "2     Edsa Shangri-La, Ortigas, Mandaluyong City, Ma...  121.056831   \n",
            "3     SM Megamall, Ortigas, Mandaluyong City, Mandal...  121.056475   \n",
            "4     SM Megamall, Ortigas, Mandaluyong City, Mandal...  121.057508   \n",
            "...                                                 ...         ...   \n",
            "9546                                Karak�_y, ��stanbul   28.977392   \n",
            "9547                               Ko��uyolu, ��stanbul   29.041297   \n",
            "9548                             Kuru�_e��me, ��stanbul   29.034640   \n",
            "9549                             Kuru�_e��me, ��stanbul   29.036019   \n",
            "9550                                    Moda, ��stanbul   29.026016   \n",
            "\n",
            "       Latitude                          Cuisines  ...  Has Table booking  \\\n",
            "0     14.565443        French, Japanese, Desserts  ...                NaN   \n",
            "1     14.553708                          Japanese  ...                NaN   \n",
            "2     14.581404  Seafood, Asian, Filipino, Indian  ...                NaN   \n",
            "3     14.585318                   Japanese, Sushi  ...                NaN   \n",
            "4     14.584450                  Japanese, Korean  ...                NaN   \n",
            "...         ...                               ...  ...                ...   \n",
            "9546  41.022793                           Turkish  ...                NaN   \n",
            "9547  41.009847   World Cuisine, Patisserie, Cafe  ...                NaN   \n",
            "9548  41.055817            Italian, World Cuisine  ...                NaN   \n",
            "9549  41.057979                   Restaurant Cafe  ...                NaN   \n",
            "9550  40.984776                              Cafe  ...                NaN   \n",
            "\n",
            "     Has Online delivery  Is delivering now  Switch to order menu Price range  \\\n",
            "0                    NaN                 No                    No           3   \n",
            "1                    NaN                 No                    No           3   \n",
            "2                    NaN                 No                    No           4   \n",
            "3                    NaN                 No                    No           4   \n",
            "4                    NaN                 No                    No           4   \n",
            "...                  ...                ...                   ...         ...   \n",
            "9546                 NaN                 No                    No           3   \n",
            "9547                 NaN                 No                    No           3   \n",
            "9548                 NaN                 No                    No           4   \n",
            "9549                 NaN                 No                    No           4   \n",
            "9550                 NaN                 No                    No           2   \n",
            "\n",
            "     Aggregate rating  Rating color  Rating text Votes NameLength  \n",
            "0                 4.8    Dark Green    Excellent   314         16  \n",
            "1                 4.5    Dark Green    Excellent   591         16  \n",
            "2                 4.4         Green    Very Good   270         22  \n",
            "3                 4.9    Dark Green    Excellent   365          4  \n",
            "4                 4.8    Dark Green    Excellent   229         11  \n",
            "...               ...           ...          ...   ...        ...  \n",
            "9546              4.1         Green    Very Good   788         11  \n",
            "9547              4.2         Green    Very Good  1034         12  \n",
            "9548              3.7        Yellow         Good   661          5  \n",
            "9549              4.0         Green    Very Good   901         11  \n",
            "9550              4.0         Green    Very Good   591         24  \n",
            "\n",
            "[9551 rows x 22 columns]\n"
          ]
        }
      ]
    }
  ]
}