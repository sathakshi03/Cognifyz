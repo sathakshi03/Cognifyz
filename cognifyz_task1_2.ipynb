{
  "nbformat": 4,
  "nbformat_minor": 0,
  "metadata": {
    "colab": {
      "provenance": [],
      "authorship_tag": "ABX9TyO9nrmFnnUh97TslfgYhN/D"
    },
    "kernelspec": {
      "name": "python3",
      "display_name": "Python 3"
    },
    "language_info": {
      "name": "python"
    }
  },
  "cells": [
    {
      "cell_type": "code",
      "execution_count": 1,
      "metadata": {
        "colab": {
          "base_uri": "https://localhost:8080/"
        },
        "id": "Y6xyiPh7mXE9",
        "outputId": "24b9675c-2f80-4a5a-d060-d614637760cf"
      },
      "outputs": [
        {
          "output_type": "stream",
          "name": "stdout",
          "text": [
            "       Restaurant ID  Country Code    Longitude     Latitude  \\\n",
            "count   9.551000e+03   9551.000000  9551.000000  9551.000000   \n",
            "mean    9.051128e+06     18.365616    64.126574    25.854381   \n",
            "std     8.791521e+06     56.750546    41.467058    11.007935   \n",
            "min     5.300000e+01      1.000000  -157.948486   -41.330428   \n",
            "25%     3.019625e+05      1.000000    77.081343    28.478713   \n",
            "50%     6.004089e+06      1.000000    77.191964    28.570469   \n",
            "75%     1.835229e+07      1.000000    77.282006    28.642758   \n",
            "max     1.850065e+07    216.000000   174.832089    55.976980   \n",
            "\n",
            "       Average Cost for two  Price range  Aggregate rating         Votes  \n",
            "count           9551.000000  9551.000000       9551.000000   9551.000000  \n",
            "mean            1199.210763     1.804837          2.666370    156.909748  \n",
            "std            16121.183073     0.905609          1.516378    430.169145  \n",
            "min                0.000000     1.000000          0.000000      0.000000  \n",
            "25%              250.000000     1.000000          2.500000      5.000000  \n",
            "50%              400.000000     2.000000          3.200000     31.000000  \n",
            "75%              700.000000     2.000000          3.700000    131.000000  \n",
            "max           800000.000000     4.000000          4.900000  10934.000000  \n"
          ]
        }
      ],
      "source": [
        "import pandas as pd\n",
        "# Calculating basic statistics for numerical columns\n",
        "df = pd.read_csv('Dataset.csv')\n",
        "numerical_stats = df.describe()\n",
        "print(numerical_stats)"
      ]
    },
    {
      "cell_type": "code",
      "source": [
        "# Explore the distribution of \"Country Code\"\n",
        "country_code_counts = df['Country Code'].value_counts()\n",
        "print(country_code_counts)\n",
        "\n",
        "# Explore the distribution of \"City\"\n",
        "city_counts = df['City'].value_counts()\n",
        "print(city_counts)\n",
        "\n",
        "# Explore the distribution of \"Cuisines\"\n",
        "cuisines_counts = df['Cuisines'].value_counts()\n",
        "print(cuisines_counts)"
      ],
      "metadata": {
        "colab": {
          "base_uri": "https://localhost:8080/"
        },
        "id": "AYbLsC9Omiwx",
        "outputId": "363a35df-5daf-4dd3-ea93-19b8b1c6efec"
      },
      "execution_count": 2,
      "outputs": [
        {
          "output_type": "stream",
          "name": "stdout",
          "text": [
            "1      8652\n",
            "216     434\n",
            "215      80\n",
            "30       60\n",
            "214      60\n",
            "189      60\n",
            "148      40\n",
            "208      34\n",
            "14       24\n",
            "162      22\n",
            "94       21\n",
            "184      20\n",
            "166      20\n",
            "191      20\n",
            "37        4\n",
            "Name: Country Code, dtype: int64\n",
            "New Delhi           5473\n",
            "Gurgaon             1118\n",
            "Noida               1080\n",
            "Faridabad            251\n",
            "Ghaziabad             25\n",
            "                    ... \n",
            "Panchkula              1\n",
            "Mc Millan              1\n",
            "Mayfield               1\n",
            "Macedon                1\n",
            "Vineland Station       1\n",
            "Name: City, Length: 141, dtype: int64\n",
            "North Indian                                             936\n",
            "North Indian, Chinese                                    511\n",
            "Chinese                                                  354\n",
            "Fast Food                                                354\n",
            "North Indian, Mughlai                                    334\n",
            "                                                        ... \n",
            "Bengali, Fast Food                                         1\n",
            "North Indian, Rajasthani, Asian                            1\n",
            "Chinese, Thai, Malaysian, Indonesian                       1\n",
            "Bakery, Desserts, North Indian, Bengali, South Indian      1\n",
            "Italian, World Cuisine                                     1\n",
            "Name: Cuisines, Length: 1825, dtype: int64\n"
          ]
        }
      ]
    },
    {
      "cell_type": "code",
      "source": [
        "# Top cuisines with the highest number of restaurants\n",
        "top_cuisines = cuisines_counts.head(12)\n",
        "print(top_cuisines)"
      ],
      "metadata": {
        "colab": {
          "base_uri": "https://localhost:8080/"
        },
        "id": "Ut18dZdzmpyg",
        "outputId": "48fc3170-9f3f-405b-cb01-d9339afce345"
      },
      "execution_count": 5,
      "outputs": [
        {
          "output_type": "stream",
          "name": "stdout",
          "text": [
            "North Indian                      936\n",
            "North Indian, Chinese             511\n",
            "Chinese                           354\n",
            "Fast Food                         354\n",
            "North Indian, Mughlai             334\n",
            "Cafe                              299\n",
            "Bakery                            218\n",
            "North Indian, Mughlai, Chinese    197\n",
            "Bakery, Desserts                  170\n",
            "Street Food                       149\n",
            "Pizza, Fast Food                  131\n",
            "Chinese, Fast Food                118\n",
            "Name: Cuisines, dtype: int64\n"
          ]
        }
      ]
    },
    {
      "cell_type": "code",
      "source": [
        "# Top cities with the highest number of restaurants\n",
        "top_cities = city_counts.head(11)\n",
        "print(top_cities)"
      ],
      "metadata": {
        "colab": {
          "base_uri": "https://localhost:8080/"
        },
        "id": "eUy_QRU8muug",
        "outputId": "c85e18a7-cd28-4d79-f925-25b88fc2f097"
      },
      "execution_count": 4,
      "outputs": [
        {
          "output_type": "stream",
          "name": "stdout",
          "text": [
            "New Delhi       5473\n",
            "Gurgaon         1118\n",
            "Noida           1080\n",
            "Faridabad        251\n",
            "Ghaziabad         25\n",
            "Bhubaneshwar      21\n",
            "Amritsar          21\n",
            "Ahmedabad         21\n",
            "Lucknow           21\n",
            "Guwahati          21\n",
            "Ludhiana          20\n",
            "Name: City, dtype: int64\n"
          ]
        }
      ]
    }
  ]
}